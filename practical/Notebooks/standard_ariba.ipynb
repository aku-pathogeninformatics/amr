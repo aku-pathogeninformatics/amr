{
 "cells": [
  {
   "cell_type": "markdown",
   "metadata": {},
   "source": [
    "# Use a standard AMR database with ARIBA\n",
    "This sections shows you how to run ARIBA on several samples to determine the presence of AMR genes using standard public AMR databases."
   ]
  },
  {
   "cell_type": "markdown",
   "metadata": {},
   "source": [
    "Make a new directory `standard` and move into that directory:"
   ]
  },
  {
   "cell_type": "code",
   "execution_count": null,
   "metadata": {},
   "outputs": [],
   "source": [
    "mkdir ../standard\n",
    "cd ../standard"
   ]
  },
  {
   "cell_type": "markdown",
   "metadata": {},
   "source": [
    "## Reference database\n",
    "\n",
    "We are going to download and prepare a reference database for use with ARIBA. You can use any one of the [standard reference databases that ARIBA supports](https://github.com/sanger-pathogens/ariba/wiki/Task:-getref)\n",
    "\n",
    "* ARG-ANNOT. PMID: 24145532\n",
    "* CARD. PMID: 23650175\n",
    "* MEGARes PMID: 27899569\n",
    "* NCBI BioProject: PRJNA313047\n",
    "* plasmidfinder PMID: 24777092\n",
    "* resfinder. PMID: 22782487\n",
    "* VFDB. PMID: 26578559\n",
    "* SRST2's version of ARG-ANNOT. PMID: 25422674.\n",
    "* VirulenceFinder PMID: 24574290.\n",
    "\n",
    "Let's use the CARD database. Run these commands to make an ARIBA database directory called `ariba_card_db`:"
   ]
  },
  {
   "cell_type": "code",
   "execution_count": null,
   "metadata": {},
   "outputs": [],
   "source": [
    "ariba getref card out.card\n",
    "ariba prepareref -f out.card.fa -m out.card.tsv ariba_card_db"
   ]
  },
  {
   "cell_type": "markdown",
   "metadata": {},
   "source": [
    "## How to run on one sample\n",
    "\n",
    "To run ARIBA on one of the *Neisseria gonorrhoeae* samples and the card database, you need to supply the database directory we prepared earlier (which we have called `ariba_card_db`) and two sequencing reads files `fastq/ERR1067813_1.fastq.gz`, `fastq/ERR1067813_2.fastq.gz`.\n",
    "\n",
    "The command to run ARIBA is:"
   ]
  },
  {
   "cell_type": "code",
   "execution_count": null,
   "metadata": {},
   "outputs": [],
   "source": [
    "ariba run ariba_card_db ../fastq/ERR1067813_1.fastq.gz ../fastq/ERR1067813_2.fastq.gz ariba.ERR1067813"
   ]
  },
  {
   "cell_type": "markdown",
   "metadata": {},
   "source": [
    "The above command will make a new directory called `ariba.ERR1067813` that will contain the ariba results."
   ]
  },
  {
   "cell_type": "markdown",
   "metadata": {},
   "source": [
    "## Run on all samples\n",
    "\n",
    "But what if we want to run ARIBA on all 3 samples? This can be done with a \"for\" loop. We assume that the reads files are named like this:\n",
    "\n",
    "```\n",
    "ERR1067813_1.fastq.gz ERR1067813_2.fastq.gz\n",
    "ERR1067814_1.fastq.gz ERR1067814_2.fastq.gz\n",
    "ERR1067815_1.fastq.gz ERR1067815_2.fastq.gz\n",
    "```\n",
    "\n",
    "Then we can run ARIBA on all samples like this (you may need to edit this command depending on how your own files are named):"
   ]
  },
  {
   "cell_type": "code",
   "execution_count": null,
   "metadata": {},
   "outputs": [],
   "source": [
    "for sample in `ls ../fastq/*_1.fastq.gz | sed 's/..\\/fastq\\///' | sed 's/\\_1.fastq.gz//'`\n",
    "do\n",
    "    ariba run ariba_card_db ../fastq/${sample}_1.fastq.gz ../fastq/${sample}_2.fastq.gz ariba.${sample}\n",
    "done"
   ]
  },
  {
   "cell_type": "markdown",
   "metadata": {},
   "source": [
    "The output directory of each sample is called `ariba.$sample`, for example ariba.ERR1067813 is the output directory for sample ERR1067813."
   ]
  },
  {
   "cell_type": "markdown",
   "metadata": {},
   "source": [
    "## ARIBA output\n",
    "\n",
    "While you are waiting for ARIBA to run on all 3 samples, go to the [ARIBA wiki (https://github.com/sanger-pathogens/ariba/wiki/Task:-run](https://github.com/sanger-pathogens/ariba/wiki/Task:-run) and read about the ARIBA output and what each of the columns in the report.tsv file mean."
   ]
  },
  {
   "cell_type": "markdown",
   "metadata": {},
   "source": [
    "## Summarising the results\n",
    "\n",
    "Now gather together the results"
   ]
  },
  {
   "cell_type": "code",
   "execution_count": null,
   "metadata": {},
   "outputs": [],
   "source": [
    "ariba summary all_results ariba.*/report.tsv"
   ]
  },
  {
   "cell_type": "markdown",
   "metadata": {},
   "source": [
    "Look at the files produced by ariba summary:"
   ]
  },
  {
   "cell_type": "code",
   "execution_count": null,
   "metadata": {},
   "outputs": [],
   "source": [
    "ls"
   ]
  },
  {
   "cell_type": "markdown",
   "metadata": {},
   "source": [
    "You should see 3 files:\n",
    "\n",
    "`all_results.csv`  `all_results.phandango.csv`  `all_results.phandango.tre`\n",
    "\n",
    "Now look at the file all_results.csv and answer the questions below."
   ]
  },
  {
   "cell_type": "markdown",
   "metadata": {},
   "source": [
    "## Exercises\n",
    "1. Which AMR genes are present in all 3 samples?\n",
    "2. Which AMR genes are absent in sample ERR1067813 but present in the other two samples?\n",
    "3. Which AMR genes are absent in sample ERR1067814 but present in the other two samples?\n",
    "4. Which AMR genes are absent in sample ERR1067815 but present in the other two samples?"
   ]
  },
  {
   "cell_type": "markdown",
   "metadata": {},
   "source": [
    "Now go to the next part of the tutorial where we [prepare a custom reference database for ARIBA](make_custom_db.ipynb)."
   ]
  }
 ],
 "metadata": {
  "kernelspec": {
   "display_name": "Bash",
   "language": "bash",
   "name": "bash"
  },
  "language_info": {
   "codemirror_mode": "shell",
   "file_extension": ".sh",
   "mimetype": "text/x-sh",
   "name": "bash"
  }
 },
 "nbformat": 4,
 "nbformat_minor": 2
}
